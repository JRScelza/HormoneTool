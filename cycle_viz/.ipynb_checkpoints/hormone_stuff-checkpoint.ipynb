{
 "cells": [
  {
   "cell_type": "code",
   "execution_count": null,
   "metadata": {},
   "outputs": [],
   "source": [
    "import pandas as pd\n",
    "import numpy as np \n",
    "import matplotlib.pyplot as plt\n",
    "import random\n",
    "\n",
    "\n",
    "import plotly.graph_objs as go\n",
    "from scipy.ndimage.filters import gaussian_filter1d\n",
    "\n",
    "from plotly.offline import download_plotlyjs, init_notebook_mode, plot, iplot\n",
    "\n",
    "\n",
    "%matplotlib inline\n",
    "init_notebook_mode(connected=True)  "
   ]
  },
  {
   "cell_type": "code",
   "execution_count": null,
   "metadata": {},
   "outputs": [],
   "source": [
    "fn = \"./mock_hormone_data.csv\"\n",
    "df = pd.read_csv(fn)\n",
    "lh_smoothed = gaussian_filter1d(y, sigma=2)\n",
    "\n",
    "trace1 = go.Scatter(\n",
    "        x = np.array(range(0, len(df))),\n",
    "        y = df['lh_long'],\n",
    "        name = 'Luteinizing',\n",
    "    line = dict(\n",
    "        width = 4,\n",
    "        color = '#A52D04'\n",
    "    )\n",
    "    \n",
    ")\n",
    "\n",
    "trace2 = go.Scatter(\n",
    "        x = np.array(range(0, len(df))),\n",
    "        y = df['pg_normal'],\n",
    "        name = 'Progesterone',\n",
    "    line = dict(\n",
    "        width = 4,\n",
    "        color = '#43024E'\n",
    "    )\n",
    "    \n",
    ")\n",
    "\n",
    "layout = dict(\n",
    "    paper_bgcolor='#FCF1DA',\n",
    "  plot_bgcolor='#FCF1DA')\n",
    "\n",
    "\n",
    "data = [trace1, trace2]\n",
    "\n",
    "fig = dict(data=data, layout=layout)\n",
    "\n",
    "iplot(fig, filename='basic-scatter')\n",
    "\n",
    "\n",
    "\n",
    "\n",
    "\n"
   ]
  },
  {
   "cell_type": "code",
   "execution_count": 117,
   "metadata": {},
   "outputs": [],
   "source": [
    "\n",
    "def peak_delta(x):\n",
    "    x = str(x)\n",
    "    if x == 'low':\n",
    "        result = -6\n",
    "    elif x == 'high':\n",
    "        result = 6\n",
    "    else:\n",
    "        result = 0\n",
    "    return result\n",
    "\n",
    "def lh_surge_length(x):\n",
    "    result = int(np.ceil(x*.25))\n",
    "    return result\n",
    "\n",
    "def pg_surge_length(x):\n",
    "    result = int(np.ceil(x*.5))\n",
    "    return result\n",
    "\n",
    "def estimated_day_ovulation(x):\n",
    "    diff = x - 28\n",
    "    result = 14 + diff\n",
    "    return result\n",
    "\n",
    "def lh_cycle_data(cycle_length, cycle_type = 'normal', pcos = False):\n",
    "    if pcos == False:\n",
    "        np.random.seed(1)\n",
    "        eod = estimated_day_ovulation(cycle_length)\n",
    "        peak = eod - 1\n",
    "        surge_width = lh_surge_length(cycle_length)\n",
    "        half_surge_length = int(np.ceil(surge_width/2))\n",
    "        peak_height = peak_delta(cycle_type) + 20\n",
    "        surge_slope =  peak_height/half_surge_length\n",
    "\n",
    "        surge_profile = []\n",
    "\n",
    "        for i in range(1, half_surge_length + 1):\n",
    "            value = i*surge_slope\n",
    "            surge_profile.append(value)\n",
    "\n",
    "        surge_data = []\n",
    "        surge_data.extend(surge_profile)\n",
    "\n",
    "        second_half_profile = surge_profile[:]\n",
    "        second_half_profile.sort(reverse = True)\n",
    "\n",
    "        surge_data.extend(second_half_profile[1:])\n",
    "        noise = np.random.normal(0, 1, len(surge_data))\n",
    "\n",
    "        surge_data = surge_data + noise\n",
    "\n",
    "        cycle_data = list(np.random.randint(0,2,int((cycle_length - surge_width)/2)))\n",
    "        cycle_data.extend(surge_data)\n",
    "        cycle_data.extend(list(np.random.randint(0,2,int((cycle_length - surge_width)/2))))\n",
    "        \n",
    "        cycle_data_clean = gaussian_filter1d(cycle_data, sigma=1)\n",
    "\n",
    "    else:\n",
    "        np.random.seed(1)\n",
    "        eod = estimated_day_ovulation(cycle_length)\n",
    "        peak = eod - 1\n",
    "        surge_width = lh_surge_length(cycle_length) + 7\n",
    "        half_surge_length = int(np.ceil(surge_width/2))\n",
    "        peak_height = peak_delta(cycle_type) + 14\n",
    "        surge_slope =  peak_height/16\n",
    "\n",
    "        surge_profile = []\n",
    "\n",
    "        for i in range(13, half_surge_length + 14):\n",
    "            value = i*surge_slope\n",
    "            surge_profile.append(value)\n",
    "\n",
    "        surge_data = []\n",
    "        surge_data.extend(surge_profile)\n",
    "\n",
    "        second_half_profile = surge_profile[:]\n",
    "        second_half_profile.sort(reverse = True)\n",
    "\n",
    "        surge_data.extend(second_half_profile[1:])\n",
    "        noise = np.random.normal(0, .5, len(surge_data))\n",
    "\n",
    "        surge_data = surge_data + noise\n",
    "\n",
    "        cycle_data = list(np.random.randint(12,15,int((cycle_length - surge_width)/2)))\n",
    "        cycle_data.extend(surge_data)\n",
    "        cycle_data.extend(list(np.random.randint(12,15,int((cycle_length - surge_width)/2))))\n",
    "\n",
    "        cycle_data_clean = gaussian_filter1d(cycle_data, sigma=1)\n",
    "        \n",
    "    return cycle_data_clean\n",
    "\n",
    "def pg_cycle_data(cycle_length):\n",
    "    np.random.seed(1)\n",
    "    eod = estimated_day_ovulation(cycle_length)\n",
    "    peak = eod + (cycle_length - eod)/2\n",
    "    surge_width = pg_surge_length(cycle_length)\n",
    "    half_surge_length = int(np.ceil(surge_width/2))\n",
    "    peak_height = peak_delta(cycle_type) + 20\n",
    "    surge_slope =  peak_height/half_surge_length\n",
    "\n",
    "    surge_profile = []\n",
    "\n",
    "    for i in range(1, half_surge_length + 1):\n",
    "        value = i*surge_slope\n",
    "        surge_profile.append(value)\n",
    "\n",
    "    surge_data = []\n",
    "    surge_data.extend(surge_profile)\n",
    "\n",
    "    second_half_profile = surge_profile[:]\n",
    "    second_half_profile.sort(reverse = True)\n",
    "\n",
    "    surge_data.extend(second_half_profile[1:])\n",
    "    noise = np.random.normal(0, 1, len(surge_data))\n",
    "\n",
    "    surge_data = surge_data + noise\n",
    "\n",
    "    cycle_data = list(np.random.randint(0,2,int((cycle_length - surge_width)/2)))\n",
    "    cycle_data.extend(surge_data)\n",
    "    cycle_data.extend(list(np.random.randint(0,2,int((cycle_length - surge_width)/2))))\n",
    "\n",
    "    cycle_data_clean = gaussian_filter1d(cycle_data, sigma=1)\n",
    "    return cycle_data_clean\n"
   ]
  },
  {
   "cell_type": "code",
   "execution_count": 119,
   "metadata": {},
   "outputs": [
    {
     "data": {
      "image/png": "[encoded data removed]",
      "text/plain": [
       "<Figure size 432x288 with 1 Axes>"
      ]
     },
     "metadata": {
      "needs_background": "light"
     },
     "output_type": "display_data"
    }
   ],
   "source": [
    "f = plt.figure()\n",
    "cycle_one = lh_cycle_data(28, cycle_type = 'normal', pcos = False)\n",
    "cycle_two = lh_cycle_data(35, cycle_type = 'normal', pcos = False)\n",
    "cycle_three = lh_cycle_data(24, cycle_type = 'low', pcos = False)\n",
    "\n",
    "x1  = range(len(cycle_one))\n",
    "x2  = range(len(cycle_two))\n",
    "x3  = range(len(cycle_three))\n",
    "\n",
    "\n",
    "plt.plot(x1, cycle_one)\n",
    "plt.plot(x2, cycle_two)\n",
    "plt.plot(x3, cycle_three)\n",
    "\n",
    "\n",
    "plt.show()\n",
    "\n"
   ]
  },
  {
   "cell_type": "code",
   "execution_count": 46,
   "metadata": {},
   "outputs": [
    {
     "data": {
      "text/plain": [
       "[1,\n",
       " 0,\n",
       " 0,\n",
       " 0,\n",
       " 1,\n",
       " 0,\n",
       " 0,\n",
       " 0,\n",
       " 1,\n",
       " 1,\n",
       " 6.624345363663242,\n",
       " 9.388243586349924,\n",
       " 14.471828247736545,\n",
       " 18.92703137784383,\n",
       " 15.865407629324679,\n",
       " 7.698461303119718,\n",
       " 6.74481176421648,\n",
       " 1,\n",
       " 1,\n",
       " 1,\n",
       " 0,\n",
       " 0,\n",
       " 0,\n",
       " 1,\n",
       " 1,\n",
       " 1,\n",
       " 1]"
      ]
     },
     "execution_count": 46,
     "metadata": {},
     "output_type": "execute_result"
    }
   ],
   "source": [
    "cycle_one"
   ]
  },
  {
   "cell_type": "code",
   "execution_count": 16,
   "metadata": {},
   "outputs": [
    {
     "data": {
      "image/png": "[encoded data removed]",
      "text/plain": [
       "<Figure size 864x720 with 1 Axes>"
      ]
     },
     "metadata": {
      "needs_background": "light"
     },
     "output_type": "display_data"
    }
   ],
   "source": [
    "\n",
    "f = plt.figure(figsize = (12,10))\n",
    "plt.scatter(x1, gaussian_filter1d(cycle_one, sigma=1.6)\n",
    ")\n",
    "\n",
    "\n",
    "\n",
    "plt.show()"
   ]
  },
  {
   "cell_type": "code",
   "execution_count": null,
   "metadata": {},
   "outputs": [],
   "source": [
    "peak_delta('long')"
   ]
  },
  {
   "cell_type": "code",
   "execution_count": null,
   "metadata": {},
   "outputs": [],
   "source": []
  }
 ],
 "metadata": {
  "kernelspec": {
   "display_name": "Python 3",
   "language": "python",
   "name": "python3"
  },
  "language_info": {
   "codemirror_mode": {
    "name": "ipython",
    "version": 3
   },
   "file_extension": ".py",
   "mimetype": "text/x-python",
   "name": "python",
   "nbconvert_exporter": "python",
   "pygments_lexer": "ipython3",
   "version": "3.6.8"
  }
 },
 "nbformat": 4,
 "nbformat_minor": 2
}
