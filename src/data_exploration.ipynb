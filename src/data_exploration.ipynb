{
 "cells": [
  {
   "cell_type": "markdown",
   "metadata": {},
   "source": [
    "## Tick Report Exploratory Analysis\n",
    "\n",
    "### Data\n",
    "\n",
    "The data explored in this work has been scraped from tickreport.com"
   ]
  },
  {
   "cell_type": "code",
   "execution_count": 1,
   "metadata": {
    "collapsed": true
   },
   "outputs": [],
   "source": [
    "#loading packages\n",
    "import pandas as pd\n",
    "import matplotlib.pyplot as plt\n",
    "import numpy as np\n",
    "import seaborn as sns\n",
    "\n"
   ]
  },
  {
   "cell_type": "code",
   "execution_count": 2,
   "metadata": {
    "collapsed": true
   },
   "outputs": [],
   "source": [
    "#defining local data location and create dataframe\n",
    "\n",
    "\n",
    "df1 = pd.read_csv('../data/tick_data_1500_22413.csv')\n",
    "df2 = pd.read_csv('../data/tick_data_22414_54003.csv')\n",
    "\n",
    "df = pd.concat([df1 , df2])\n"
   ]
  },
  {
   "cell_type": "code",
   "execution_count": 3,
   "metadata": {},
   "outputs": [
    {
     "data": {
      "text/plain": [
       "Index(['ID', 'Species', 'Sex', 'Stage', 'Feeding State', 'Picture', 'City',\n",
       "       'State', 'Zip', 'Host Source', 'Gender', 'Age', 'Attached',\n",
       "       'Site of Attachment', 'Time Attached', 'Rash Present',\n",
       "       'Date tick was removed', 'Borrelia general species',\n",
       "       'Borrelia burgdorferi sensu lato', 'Borrelia miyamotoi',\n",
       "       'Borrelia mayonii', 'Babesia microti', 'Ehrlichia muris-Like Agent',\n",
       "       'Anaplasma phagocytophilum', 'Borrelia lonestari',\n",
       "       'Rickettsia rickettsii', 'Rickettsia philipii', 'Rickettsia parkeri',\n",
       "       'Francisella tularensis', 'Ehrlichia chaffeensis', 'Ehrlichia ewingii',\n",
       "       'Ehrlichia canis', 'Bartonella henselae', 'Babesia duncani',\n",
       "       'Babesia divergens', 'Powassan virus general species',\n",
       "       'Powassan virus (type 2, DTV)', 'Heartland virus',\n",
       "       'Colorado Tick Fever virus', 'Bourbon virus'],\n",
       "      dtype='object')"
      ]
     },
     "execution_count": 3,
     "metadata": {},
     "output_type": "execute_result"
    }
   ],
   "source": [
    "#lets have a look\n",
    "df.columns"
   ]
  },
  {
   "cell_type": "code",
   "execution_count": 4,
   "metadata": {},
   "outputs": [
    {
     "data": {
      "text/plain": [
       "12194"
      ]
     },
     "execution_count": 4,
     "metadata": {},
     "output_type": "execute_result"
    }
   ],
   "source": [
    "len([name for name in df['Date tick was removed'] if name.startswith('2017')])"
   ]
  },
  {
   "cell_type": "code",
   "execution_count": 5,
   "metadata": {},
   "outputs": [
    {
     "name": "stdout",
     "output_type": "stream",
     "text": [
      "<class 'pandas.core.frame.DataFrame'>\n",
      "Int64Index: 41990 entries, 0 to 26353\n",
      "Data columns (total 40 columns):\n",
      "ID                                 41990 non-null int64\n",
      "Species                            41990 non-null object\n",
      "Sex                                41990 non-null object\n",
      "Stage                              41990 non-null object\n",
      "Feeding State                      41990 non-null object\n",
      "Picture                            41990 non-null object\n",
      "City                               40754 non-null object\n",
      "State                              40698 non-null object\n",
      "Zip                                41990 non-null object\n",
      "Host Source                        41512 non-null object\n",
      "Gender                             41396 non-null object\n",
      "Age                                41403 non-null object\n",
      "Attached                           41990 non-null object\n",
      "Site of Attachment                 40513 non-null object\n",
      "Time Attached                      41990 non-null object\n",
      "Rash Present                       41990 non-null object\n",
      "Date tick was removed              41990 non-null object\n",
      "Borrelia general species           41990 non-null object\n",
      "Borrelia burgdorferi sensu lato    41990 non-null object\n",
      "Borrelia miyamotoi                 41990 non-null object\n",
      "Borrelia mayonii                   41990 non-null object\n",
      "Babesia microti                    41990 non-null object\n",
      "Ehrlichia muris-Like Agent         41990 non-null object\n",
      "Anaplasma phagocytophilum          41990 non-null object\n",
      "Borrelia lonestari                 41990 non-null object\n",
      "Rickettsia rickettsii              41990 non-null object\n",
      "Rickettsia philipii                41990 non-null object\n",
      "Rickettsia parkeri                 41990 non-null object\n",
      "Francisella tularensis             41990 non-null object\n",
      "Ehrlichia chaffeensis              41990 non-null object\n",
      "Ehrlichia ewingii                  41990 non-null object\n",
      "Ehrlichia canis                    41990 non-null object\n",
      "Bartonella henselae                41990 non-null object\n",
      "Babesia duncani                    41990 non-null object\n",
      "Babesia divergens                  41990 non-null object\n",
      "Powassan virus general species     41990 non-null object\n",
      "Powassan virus (type 2, DTV)       41990 non-null object\n",
      "Heartland virus                    41990 non-null object\n",
      "Colorado Tick Fever virus          41990 non-null object\n",
      "Bourbon virus                      41990 non-null object\n",
      "dtypes: int64(1), object(39)\n",
      "memory usage: 13.1+ MB\n"
     ]
    }
   ],
   "source": [
    "df.info()"
   ]
  },
  {
   "cell_type": "code",
   "execution_count": 6,
   "metadata": {},
   "outputs": [
    {
     "name": "stderr",
     "output_type": "stream",
     "text": [
      "/Users/jeromescelza/anaconda3/lib/python3.6/site-packages/ipykernel_launcher.py:4: SettingWithCopyWarning: \n",
      "A value is trying to be set on a copy of a slice from a DataFrame.\n",
      "Try using .loc[row_indexer,col_indexer] = value instead\n",
      "\n",
      "See the caveats in the documentation: http://pandas.pydata.org/pandas-docs/stable/indexing.html#indexing-view-versus-copy\n",
      "  after removing the cwd from sys.path.\n"
     ]
    }
   ],
   "source": [
    "filter_year = '2014'\n",
    "year_index = df['Date tick was removed'].str.startswith(filter_year)\n",
    "df_filtered_year = df[year_index]\n",
    "df_filtered_year['Date tick was removed'] = pd.to_datetime(df_filtered_year['Date tick was removed'] , errors='coerce')\n",
    "df_filtered_year = df_filtered_year.dropna(subset=['Date tick was removed'])\n",
    "df_filtered_year['month'] = df_filtered_year['Date tick was removed'].dt.month\n"
   ]
  },
  {
   "cell_type": "code",
   "execution_count": 7,
   "metadata": {},
   "outputs": [
    {
     "name": "stderr",
     "output_type": "stream",
     "text": [
      "/Users/jeromescelza/anaconda3/lib/python3.6/site-packages/ipykernel_launcher.py:2: SettingWithCopyWarning: \n",
      "A value is trying to be set on a copy of a slice from a DataFrame\n",
      "\n",
      "See the caveats in the documentation: http://pandas.pydata.org/pandas-docs/stable/indexing.html#indexing-view-versus-copy\n",
      "  \n"
     ]
    },
    {
     "data": {
      "text/plain": [
       "Index(['Borrelia burgdorferi sensu lato', 'Babesia microti',\n",
       "       'Anaplasma phagocytophilum', 'Borrelia general species',\n",
       "       'Borrelia miyamotoi', 'Borrelia lonestari', 'Ehrlichia chaffeensis',\n",
       "       'Francisella tularensis', 'Rickettsia rickettsii',\n",
       "       'Colorado Tick Fever virus', 'Borrelia mayonii', 'Heartland virus',\n",
       "       'Ehrlichia muris-Like Agent', 'Powassan virus (type 2, DTV)',\n",
       "       'Powassan virus general species', 'Babesia divergens',\n",
       "       'Rickettsia parkeri', 'Bourbon virus', 'Ehrlichia ewingii',\n",
       "       'Ehrlichia canis', 'Bartonella henselae', 'Babesia duncani',\n",
       "       'Rickettsia philipii'],\n",
       "      dtype='object')"
      ]
     },
     "execution_count": 7,
     "metadata": {},
     "output_type": "execute_result"
    }
   ],
   "source": [
    "df_bacteria = df_filtered_year[df_filtered_year.columns[17:]]\n",
    "df_bacteria.replace('None', 0, inplace=True)\n",
    "df_bacteria = df_bacteria.apply(pd.to_numeric)\n",
    "\n",
    "df_bacteria.sum(axis = 0).sort_values()[::-1][1:].index\n",
    "\n",
    "\n"
   ]
  },
  {
   "cell_type": "code",
   "execution_count": 8,
   "metadata": {},
   "outputs": [
    {
     "data": {
      "text/plain": [
       "23"
      ]
     },
     "execution_count": 8,
     "metadata": {},
     "output_type": "execute_result"
    }
   ],
   "source": [
    "len(df_bacteria.sum(axis = 0).sort_values()[::-1][1:])\n",
    "len(df_bacteria.sum(axis = 0).sort_values()[::-1][1:].index)\n",
    "\n",
    "\n",
    "\n"
   ]
  },
  {
   "cell_type": "code",
   "execution_count": 9,
   "metadata": {
    "collapsed": true
   },
   "outputs": [],
   "source": [
    "df_filtered_year['month'] = df_filtered_year['Date tick was removed'].dt.month"
   ]
  },
  {
   "cell_type": "code",
   "execution_count": 10,
   "metadata": {},
   "outputs": [
    {
     "data": {
      "text/plain": [
       "5     1411\n",
       "6      956\n",
       "4      723\n",
       "10     687\n",
       "11     527\n",
       "7      487\n",
       "8      156\n",
       "12     120\n",
       "9       95\n",
       "3       40\n",
       "2        6\n",
       "1        6\n",
       "Name: month, dtype: int64"
      ]
     },
     "execution_count": 10,
     "metadata": {},
     "output_type": "execute_result"
    }
   ],
   "source": [
    "df_filtered_year['month'].value_counts()"
   ]
  },
  {
   "cell_type": "code",
   "execution_count": 11,
   "metadata": {
    "collapsed": true
   },
   "outputs": [],
   "source": [
    "    import calendar\n",
    "    df_filtered_year['month'] = df_filtered_year['Date tick was removed'].dt.month\n",
    "    di = dict((v,k) for k,v in enumerate(calendar.month_abbr))\n",
    "    labels = list(di.keys())[1:]\n",
    "\n",
    "    df_new = pd.DataFrame({\n",
    "        \"month\" : df_filtered_year['month'],\n",
    "        \"Borrelia\" : df_filtered_year['Borrelia burgdorferi sensu lato'],\n",
    "        \"Moyonii\" : df_filtered_year['Borrelia mayonii']\n",
    "    })\n",
    "\n",
    "    grouped = df_new.groupby([\"Borrelia\" , \"month\"]).size()\n",
    "    grouped.reset_index\n",
    "\n",
    "    lst = list(grouped[['1']].index)\n",
    "    lst2 = [item[1] for item in lst]"
   ]
  },
  {
   "cell_type": "code",
   "execution_count": 12,
   "metadata": {},
   "outputs": [
    {
     "data": {
      "text/plain": [
       "[3, 4, 5, 6, 7, 8, 9, 10, 11, 12]"
      ]
     },
     "execution_count": 12,
     "metadata": {},
     "output_type": "execute_result"
    }
   ],
   "source": [
    "lst2"
   ]
  },
  {
   "cell_type": "code",
   "execution_count": 13,
   "metadata": {},
   "outputs": [
    {
     "data": {
      "text/plain": [
       "['Jan',\n",
       " 'Feb',\n",
       " 'Mar',\n",
       " 'Apr',\n",
       " 'May',\n",
       " 'Jun',\n",
       " 'Jul',\n",
       " 'Aug',\n",
       " 'Sep',\n",
       " 'Oct',\n",
       " 'Nov',\n",
       " 'Dec']"
      ]
     },
     "execution_count": 13,
     "metadata": {},
     "output_type": "execute_result"
    }
   ],
   "source": [
    "labels"
   ]
  },
  {
   "cell_type": "code",
   "execution_count": 14,
   "metadata": {},
   "outputs": [
    {
     "data": {
      "text/plain": [
       "[2, 1, 3, 9, 12, 8, 7, 11, 10, 4, 6, 5]"
      ]
     },
     "execution_count": 14,
     "metadata": {},
     "output_type": "execute_result"
    }
   ],
   "source": [
    "df_filtered_year['month'].value_counts().sort_values().index.tolist()"
   ]
  },
  {
   "cell_type": "code",
   "execution_count": 15,
   "metadata": {},
   "outputs": [
    {
     "ename": "ModuleNotFoundError",
     "evalue": "No module named 'plotly'",
     "output_type": "error",
     "traceback": [
      "\u001b[0;31m---------------------------------------------------------------------------\u001b[0m",
      "\u001b[0;31mModuleNotFoundError\u001b[0m                       Traceback (most recent call last)",
      "\u001b[0;32m<ipython-input-15-3fd1df2dbcc1>\u001b[0m in \u001b[0;36m<module>\u001b[0;34m()\u001b[0m\n\u001b[0;32m----> 1\u001b[0;31m \u001b[0;32mimport\u001b[0m \u001b[0mplotly\u001b[0m\u001b[0;34m.\u001b[0m\u001b[0mplotly\u001b[0m \u001b[0;32mas\u001b[0m \u001b[0mpy\u001b[0m\u001b[0;34m\u001b[0m\u001b[0m\n\u001b[0m\u001b[1;32m      2\u001b[0m \u001b[0;32mimport\u001b[0m \u001b[0mplotly\u001b[0m\u001b[0;34m.\u001b[0m\u001b[0mfigure_factory\u001b[0m \u001b[0;32mas\u001b[0m \u001b[0mff\u001b[0m\u001b[0;34m\u001b[0m\u001b[0m\n\u001b[1;32m      3\u001b[0m \u001b[0;34m\u001b[0m\u001b[0m\n\u001b[1;32m      4\u001b[0m \u001b[0;32mimport\u001b[0m \u001b[0mnumpy\u001b[0m \u001b[0;32mas\u001b[0m \u001b[0mnp\u001b[0m\u001b[0;34m\u001b[0m\u001b[0m\n\u001b[1;32m      5\u001b[0m \u001b[0;32mimport\u001b[0m \u001b[0mpandas\u001b[0m \u001b[0;32mas\u001b[0m \u001b[0mpd\u001b[0m\u001b[0;34m\u001b[0m\u001b[0m\n",
      "\u001b[0;31mModuleNotFoundError\u001b[0m: No module named 'plotly'"
     ]
    }
   ],
   "source": [
    "import plotly.plotly as py\n",
    "import plotly.figure_factory as ff\n",
    "\n",
    "import numpy as np\n",
    "import pandas as pd\n",
    "\n",
    "df_sample = pd.read_csv('https://raw.githubusercontent.com/plotly/datasets/master/laucnty16.csv')\n",
    "df_sample['State FIPS Code'] = df_sample['State FIPS Code'].apply(lambda x: str(x).zfill(2))\n",
    "df_sample['County FIPS Code'] = df_sample['County FIPS Code'].apply(lambda x: str(x).zfill(3))\n",
    "df_sample['FIPS'] = df_sample['State FIPS Code'] + df_sample['County FIPS Code']\n",
    "\n",
    "colorscale = [\"#f7fbff\",\"#ebf3fb\",\"#deebf7\",\"#d2e3f3\",\"#c6dbef\",\"#b3d2e9\",\"#9ecae1\",\n",
    "              \"#85bcdb\",\"#6baed6\",\"#57a0ce\",\"#4292c6\",\"#3082be\",\"#2171b5\",\"#1361a9\",\n",
    "              \"#08519c\",\"#0b4083\",\"#08306b\"]\n",
    "endpts = list(np.linspace(1, 12, len(colorscale) - 1))\n",
    "fips = df_sample['FIPS'].tolist()\n",
    "values = df_sample['Unemployment Rate (%)'].tolist()\n",
    "\n",
    "fig = ff.create_choropleth(\n",
    "    fips=fips, values=values,\n",
    "    binning_endpoints=endpts,\n",
    "    colorscale=colorscale,\n",
    "    show_state_data=False,\n",
    "    show_hover=True, centroid_marker={'opacity': 0},\n",
    "    asp=2.9, title='USA by Unemployment %',\n",
    "    legend_title='% unemployed'\n",
    ")\n",
    "py.iplot(fig, filename='choropleth_full_usa')"
   ]
  },
  {
   "cell_type": "code",
   "execution_count": null,
   "metadata": {
    "collapsed": true
   },
   "outputs": [],
   "source": []
  }
 ],
 "metadata": {
  "kernelspec": {
   "display_name": "Python 3",
   "language": "python",
   "name": "python3"
  },
  "language_info": {
   "codemirror_mode": {
    "name": "ipython",
    "version": 3
   },
   "file_extension": ".py",
   "mimetype": "text/x-python",
   "name": "python",
   "nbconvert_exporter": "python",
   "pygments_lexer": "ipython3",
   "version": "3.6.3"
  }
 },
 "nbformat": 4,
 "nbformat_minor": 2
}
